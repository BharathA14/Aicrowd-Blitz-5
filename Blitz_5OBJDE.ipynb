{
  "nbformat": 4,
  "nbformat_minor": 0,
  "metadata": {
    "colab": {
      "name": "Blitz#5OBJDE.ipynb",
      "provenance": [],
      "collapsed_sections": []
    },
    "kernelspec": {
      "name": "python3",
      "display_name": "Python 3"
    },
    "accelerator": "GPU"
  },
  "cells": [
    {
      "cell_type": "code",
      "metadata": {
        "id": "gD_YFa8sJsmH"
      },
      "source": [
        "# !wget https://datasets.aicrowd.com/default/aicrowd-practice-challenges/public/objde/v0.1/train.csv\r\n",
        "# !wget https://datasets.aicrowd.com/default/aicrowd-practice-challenges/public/objde/v0.1/val.csv\r\n",
        "# !wget https://datasets.aicrowd.com/default/aicrowd-practice-challenges/public/objde/v0.1/validation.zip\r\n",
        "# !wget https://datasets.aicrowd.com/default/aicrowd-practice-challenges/public/objde/v0.2/train-v2.zip\r\n",
        "# !wget https://datasets.aicrowd.com/default/aicrowd-practice-challenges/public/objde/v0.2/train-v2.csv"
      ],
      "execution_count": null,
      "outputs": []
    },
    {
      "cell_type": "code",
      "metadata": {
        "id": "FzKyDUXO5xnm"
      },
      "source": [
        "# %cp /content/drive/MyDrive/Blitz_5/OBJDE/yolo_benchmark_70.zip /content/\r\n",
        "!unzip /content/yolo_benchmark_70.zip"
      ],
      "execution_count": null,
      "outputs": []
    },
    {
      "cell_type": "code",
      "metadata": {
        "id": "BIr6y2rwSsne"
      },
      "source": [
        "!wget https://datasets.aicrowd.com/default/aicrowd-practice-challenges/public/objde/v0.2/test-v2.zip"
      ],
      "execution_count": null,
      "outputs": []
    },
    {
      "cell_type": "code",
      "metadata": {
        "id": "vetZMGztS7wy"
      },
      "source": [
        "!unzip test-v2.zip"
      ],
      "execution_count": null,
      "outputs": []
    },
    {
      "cell_type": "code",
      "metadata": {
        "id": "RUSobUooYzNl"
      },
      "source": [
        "%cp /content/train-v2.zip /content/drive/MyDrive/Blitz_5/OBJDE/\r\n",
        "%cp /content/train-v2.csv /content/drive/MyDrive/Blitz_5/OBJDE/\r\n",
        "\r\n",
        "# !unzip train.zip"
      ],
      "execution_count": null,
      "outputs": []
    },
    {
      "cell_type": "code",
      "metadata": {
        "id": "YGeSSq-L4sWN"
      },
      "source": [
        "%cp /content/drive/MyDrive/Blitz_5/OBJDE/train-v2.csv /content/\r\n",
        "%cp /content/drive/MyDrive/Blitz_5/OBJDE/train-v2.zip /content/\r\n"
      ],
      "execution_count": null,
      "outputs": []
    },
    {
      "cell_type": "code",
      "metadata": {
        "id": "EmXJMCmy6jLW"
      },
      "source": [
        "!unzip train-v2.zip"
      ],
      "execution_count": null,
      "outputs": []
    },
    {
      "cell_type": "code",
      "metadata": {
        "id": "2GPr45EIOnv8"
      },
      "source": [
        "!git clone https://github.com/ultralytics/yolov5\r\n",
        "!pip install thop\r\n",
        "!pip install PyYAML==5.4.1"
      ],
      "execution_count": null,
      "outputs": []
    },
    {
      "cell_type": "code",
      "metadata": {
        "id": "CZE27wTVOYoX",
        "colab": {
          "base_uri": "https://localhost:8080/"
        },
        "outputId": "6fc5e1ef-c654-4159-d603-127fc4deb04d"
      },
      "source": [
        "!unzip ../validation.zip"
      ],
      "execution_count": null,
      "outputs": [
        {
          "output_type": "stream",
          "text": [
            "unzip:  cannot find or open ../validation.zip, ../validation.zip.zip or ../validation.zip.ZIP.\n"
          ],
          "name": "stdout"
        }
      ]
    },
    {
      "cell_type": "code",
      "metadata": {
        "id": "PObi-kXIJaMP"
      },
      "source": [
        "import pandas as pd\r\n",
        "import numpy as np\r\n",
        "import ast\r\n",
        "import os\r\n",
        "from os import path\r\n",
        "import shutil\r\n",
        "from tqdm import tqdm"
      ],
      "execution_count": null,
      "outputs": []
    },
    {
      "cell_type": "code",
      "metadata": {
        "id": "q6yNhwcUJiKU",
        "colab": {
          "base_uri": "https://localhost:8080/",
          "height": 359
        },
        "outputId": "eef9549d-2656-40ce-a24f-2ea28594301a"
      },
      "source": [
        "# train = pd.read_csv('train.csv')\r\n",
        "val = pd.read_csv('train-v2.csv')\r\n",
        "val.head(10)"
      ],
      "execution_count": null,
      "outputs": [
        {
          "output_type": "execute_result",
          "data": {
            "text/html": [
              "<div>\n",
              "<style scoped>\n",
              "    .dataframe tbody tr th:only-of-type {\n",
              "        vertical-align: middle;\n",
              "    }\n",
              "\n",
              "    .dataframe tbody tr th {\n",
              "        vertical-align: top;\n",
              "    }\n",
              "\n",
              "    .dataframe thead th {\n",
              "        text-align: right;\n",
              "    }\n",
              "</style>\n",
              "<table border=\"1\" class=\"dataframe\">\n",
              "  <thead>\n",
              "    <tr style=\"text-align: right;\">\n",
              "      <th></th>\n",
              "      <th>ImageID</th>\n",
              "      <th>LabelName</th>\n",
              "      <th>XMin</th>\n",
              "      <th>XMax</th>\n",
              "      <th>YMin</th>\n",
              "      <th>YMax</th>\n",
              "    </tr>\n",
              "  </thead>\n",
              "  <tbody>\n",
              "    <tr>\n",
              "      <th>0</th>\n",
              "      <td>0000048549557964</td>\n",
              "      <td>Car</td>\n",
              "      <td>0.194375</td>\n",
              "      <td>0.326250</td>\n",
              "      <td>0.720000</td>\n",
              "      <td>0.758333</td>\n",
              "    </tr>\n",
              "    <tr>\n",
              "      <th>1</th>\n",
              "      <td>0000048549557964</td>\n",
              "      <td>Car</td>\n",
              "      <td>0.435000</td>\n",
              "      <td>0.725625</td>\n",
              "      <td>0.698333</td>\n",
              "      <td>0.944167</td>\n",
              "    </tr>\n",
              "    <tr>\n",
              "      <th>2</th>\n",
              "      <td>0000048549557964</td>\n",
              "      <td>Car</td>\n",
              "      <td>0.706250</td>\n",
              "      <td>0.936875</td>\n",
              "      <td>0.685833</td>\n",
              "      <td>0.865000</td>\n",
              "    </tr>\n",
              "    <tr>\n",
              "      <th>3</th>\n",
              "      <td>0000048549557964</td>\n",
              "      <td>Car</td>\n",
              "      <td>0.828750</td>\n",
              "      <td>0.999375</td>\n",
              "      <td>0.692500</td>\n",
              "      <td>0.908333</td>\n",
              "    </tr>\n",
              "    <tr>\n",
              "      <th>4</th>\n",
              "      <td>0000071d71a0a6f6</td>\n",
              "      <td>Person</td>\n",
              "      <td>0.000000</td>\n",
              "      <td>0.212500</td>\n",
              "      <td>0.231667</td>\n",
              "      <td>0.998333</td>\n",
              "    </tr>\n",
              "    <tr>\n",
              "      <th>5</th>\n",
              "      <td>0000071d71a0a6f6</td>\n",
              "      <td>Person</td>\n",
              "      <td>0.138750</td>\n",
              "      <td>0.522500</td>\n",
              "      <td>0.250000</td>\n",
              "      <td>0.998333</td>\n",
              "    </tr>\n",
              "    <tr>\n",
              "      <th>6</th>\n",
              "      <td>0000071d71a0a6f6</td>\n",
              "      <td>Person</td>\n",
              "      <td>0.142500</td>\n",
              "      <td>0.235000</td>\n",
              "      <td>0.418333</td>\n",
              "      <td>0.548333</td>\n",
              "    </tr>\n",
              "    <tr>\n",
              "      <th>7</th>\n",
              "      <td>0000071d71a0a6f6</td>\n",
              "      <td>Person</td>\n",
              "      <td>0.596250</td>\n",
              "      <td>0.808750</td>\n",
              "      <td>0.265000</td>\n",
              "      <td>0.998333</td>\n",
              "    </tr>\n",
              "    <tr>\n",
              "      <th>8</th>\n",
              "      <td>0000071d71a0a6f6</td>\n",
              "      <td>Person</td>\n",
              "      <td>0.638750</td>\n",
              "      <td>0.998750</td>\n",
              "      <td>0.243333</td>\n",
              "      <td>0.998333</td>\n",
              "    </tr>\n",
              "    <tr>\n",
              "      <th>9</th>\n",
              "      <td>0000201cd362f303</td>\n",
              "      <td>Clothing</td>\n",
              "      <td>0.020625</td>\n",
              "      <td>0.115000</td>\n",
              "      <td>0.382739</td>\n",
              "      <td>0.491557</td>\n",
              "    </tr>\n",
              "  </tbody>\n",
              "</table>\n",
              "</div>"
            ],
            "text/plain": [
              "            ImageID LabelName      XMin      XMax      YMin      YMax\n",
              "0  0000048549557964       Car  0.194375  0.326250  0.720000  0.758333\n",
              "1  0000048549557964       Car  0.435000  0.725625  0.698333  0.944167\n",
              "2  0000048549557964       Car  0.706250  0.936875  0.685833  0.865000\n",
              "3  0000048549557964       Car  0.828750  0.999375  0.692500  0.908333\n",
              "4  0000071d71a0a6f6    Person  0.000000  0.212500  0.231667  0.998333\n",
              "5  0000071d71a0a6f6    Person  0.138750  0.522500  0.250000  0.998333\n",
              "6  0000071d71a0a6f6    Person  0.142500  0.235000  0.418333  0.548333\n",
              "7  0000071d71a0a6f6    Person  0.596250  0.808750  0.265000  0.998333\n",
              "8  0000071d71a0a6f6    Person  0.638750  0.998750  0.243333  0.998333\n",
              "9  0000201cd362f303  Clothing  0.020625  0.115000  0.382739  0.491557"
            ]
          },
          "metadata": {
            "tags": []
          },
          "execution_count": 6
        }
      ]
    },
    {
      "cell_type": "code",
      "metadata": {
        "id": "e0To69_n6dXq"
      },
      "source": [
        "images= os.listdir('train-v2')"
      ],
      "execution_count": null,
      "outputs": []
    },
    {
      "cell_type": "code",
      "metadata": {
        "id": "jtC1hSocJi5s"
      },
      "source": [
        "train['LabelName'].value_counts()"
      ],
      "execution_count": null,
      "outputs": []
    },
    {
      "cell_type": "code",
      "metadata": {
        "id": "4zFpi25kJ3C2"
      },
      "source": [
        "Clothing should be undersampled heavily"
      ],
      "execution_count": null,
      "outputs": []
    },
    {
      "cell_type": "code",
      "metadata": {
        "colab": {
          "base_uri": "https://localhost:8080/"
        },
        "id": "YMwKhmysJyYl",
        "outputId": "bb953751-291c-4294-8d92-a497ff5e9984"
      },
      "source": [
        "val['LabelName'].value_counts()"
      ],
      "execution_count": null,
      "outputs": [
        {
          "output_type": "execute_result",
          "data": {
            "text/plain": [
              "Clothing    38935\n",
              "Person      26365\n",
              "Footwear    21389\n",
              "Car          7469\n",
              "Plant        7176\n",
              "Name: LabelName, dtype: int64"
            ]
          },
          "metadata": {
            "tags": []
          },
          "execution_count": 6
        }
      ]
    },
    {
      "cell_type": "markdown",
      "metadata": {
        "id": "fSwtzt54KkX_"
      },
      "source": [
        "##Preprocessing for YOLO\r\n"
      ]
    },
    {
      "cell_type": "code",
      "metadata": {
        "id": "3xnkOICVKj7u"
      },
      "source": [
        "key = dict({'Clothing':0, 'Person':1,'Footwear': 2, 'Plant': 3,'Car': 4})"
      ],
      "execution_count": null,
      "outputs": []
    },
    {
      "cell_type": "code",
      "metadata": {
        "id": "cchq7SPeK2yj"
      },
      "source": [
        "def tran(label):\r\n",
        "  return str(key[label])\r\n",
        "\r\n",
        "# train['class'] = train['LabelName'].apply(lambda a: tran(a))\r\n",
        "val['class'] = val['LabelName'].apply(lambda a: tran(a))"
      ],
      "execution_count": null,
      "outputs": []
    },
    {
      "cell_type": "code",
      "metadata": {
        "id": "Z8FsUcG9NET4"
      },
      "source": [
        "val['x_center'] = val['XMin'] + (val['XMax']-val['XMin'])/2\r\n",
        "val['y_center'] = val['YMin'] + (val['YMax']-val['YMin'])/2\r\n",
        "val['w'] = val['XMax'] - val['XMin']\r\n",
        "val['h'] = val['YMax'] - val['YMin']"
      ],
      "execution_count": null,
      "outputs": []
    },
    {
      "cell_type": "code",
      "metadata": {
        "id": "pXA8UaM6_Hbf"
      },
      "source": [
        "def checktrain(value):\r\n",
        "  if str(value)+'.jpg' in images[:5000]:\r\n",
        "    return 1\r\n",
        "  return 0\r\n",
        "def checkval(value):\r\n",
        "  if str(value)+'.jpg' in images[5000:5200]:\r\n",
        "    return 2"
      ],
      "execution_count": null,
      "outputs": []
    },
    {
      "cell_type": "code",
      "metadata": {
        "id": "2qAUKb9r-5pP"
      },
      "source": [
        "val['train'] = val['ImageID'].apply(checktrain)\r\n",
        "val['train'] = val['ImageID'].apply(checkval)"
      ],
      "execution_count": null,
      "outputs": []
    },
    {
      "cell_type": "code",
      "metadata": {
        "id": "Sym1ANoJ_aWd"
      },
      "source": [
        "val['train'].value_counts()"
      ],
      "execution_count": null,
      "outputs": []
    },
    {
      "cell_type": "code",
      "metadata": {
        "id": "5tDFEm1IAbqd"
      },
      "source": [
        "val"
      ],
      "execution_count": null,
      "outputs": []
    },
    {
      "cell_type": "code",
      "metadata": {
        "colab": {
          "base_uri": "https://localhost:8080/",
          "height": 359
        },
        "id": "U74GD-lDTr7o",
        "outputId": "67efc9c0-2314-4f4e-fff3-8b2d36b04ad3"
      },
      "source": [
        "val.head(10)"
      ],
      "execution_count": null,
      "outputs": [
        {
          "output_type": "execute_result",
          "data": {
            "text/html": [
              "<div>\n",
              "<style scoped>\n",
              "    .dataframe tbody tr th:only-of-type {\n",
              "        vertical-align: middle;\n",
              "    }\n",
              "\n",
              "    .dataframe tbody tr th {\n",
              "        vertical-align: top;\n",
              "    }\n",
              "\n",
              "    .dataframe thead th {\n",
              "        text-align: right;\n",
              "    }\n",
              "</style>\n",
              "<table border=\"1\" class=\"dataframe\">\n",
              "  <thead>\n",
              "    <tr style=\"text-align: right;\">\n",
              "      <th></th>\n",
              "      <th>ImageID</th>\n",
              "      <th>LabelName</th>\n",
              "      <th>XMin</th>\n",
              "      <th>XMax</th>\n",
              "      <th>YMin</th>\n",
              "      <th>YMax</th>\n",
              "      <th>class</th>\n",
              "      <th>x_center</th>\n",
              "      <th>y_center</th>\n",
              "      <th>w</th>\n",
              "      <th>h</th>\n",
              "    </tr>\n",
              "  </thead>\n",
              "  <tbody>\n",
              "    <tr>\n",
              "      <th>0</th>\n",
              "      <td>0000048549557964</td>\n",
              "      <td>Car</td>\n",
              "      <td>0.194375</td>\n",
              "      <td>0.326250</td>\n",
              "      <td>0.720000</td>\n",
              "      <td>0.758333</td>\n",
              "      <td>4</td>\n",
              "      <td>0.260313</td>\n",
              "      <td>0.739167</td>\n",
              "      <td>0.131875</td>\n",
              "      <td>0.038333</td>\n",
              "    </tr>\n",
              "    <tr>\n",
              "      <th>1</th>\n",
              "      <td>0000048549557964</td>\n",
              "      <td>Car</td>\n",
              "      <td>0.435000</td>\n",
              "      <td>0.725625</td>\n",
              "      <td>0.698333</td>\n",
              "      <td>0.944167</td>\n",
              "      <td>4</td>\n",
              "      <td>0.580313</td>\n",
              "      <td>0.821250</td>\n",
              "      <td>0.290625</td>\n",
              "      <td>0.245834</td>\n",
              "    </tr>\n",
              "    <tr>\n",
              "      <th>2</th>\n",
              "      <td>0000048549557964</td>\n",
              "      <td>Car</td>\n",
              "      <td>0.706250</td>\n",
              "      <td>0.936875</td>\n",
              "      <td>0.685833</td>\n",
              "      <td>0.865000</td>\n",
              "      <td>4</td>\n",
              "      <td>0.821562</td>\n",
              "      <td>0.775416</td>\n",
              "      <td>0.230625</td>\n",
              "      <td>0.179167</td>\n",
              "    </tr>\n",
              "    <tr>\n",
              "      <th>3</th>\n",
              "      <td>0000048549557964</td>\n",
              "      <td>Car</td>\n",
              "      <td>0.828750</td>\n",
              "      <td>0.999375</td>\n",
              "      <td>0.692500</td>\n",
              "      <td>0.908333</td>\n",
              "      <td>4</td>\n",
              "      <td>0.914062</td>\n",
              "      <td>0.800416</td>\n",
              "      <td>0.170625</td>\n",
              "      <td>0.215833</td>\n",
              "    </tr>\n",
              "    <tr>\n",
              "      <th>4</th>\n",
              "      <td>0000071d71a0a6f6</td>\n",
              "      <td>Person</td>\n",
              "      <td>0.000000</td>\n",
              "      <td>0.212500</td>\n",
              "      <td>0.231667</td>\n",
              "      <td>0.998333</td>\n",
              "      <td>1</td>\n",
              "      <td>0.106250</td>\n",
              "      <td>0.615000</td>\n",
              "      <td>0.212500</td>\n",
              "      <td>0.766666</td>\n",
              "    </tr>\n",
              "    <tr>\n",
              "      <th>5</th>\n",
              "      <td>0000071d71a0a6f6</td>\n",
              "      <td>Person</td>\n",
              "      <td>0.138750</td>\n",
              "      <td>0.522500</td>\n",
              "      <td>0.250000</td>\n",
              "      <td>0.998333</td>\n",
              "      <td>1</td>\n",
              "      <td>0.330625</td>\n",
              "      <td>0.624167</td>\n",
              "      <td>0.383750</td>\n",
              "      <td>0.748333</td>\n",
              "    </tr>\n",
              "    <tr>\n",
              "      <th>6</th>\n",
              "      <td>0000071d71a0a6f6</td>\n",
              "      <td>Person</td>\n",
              "      <td>0.142500</td>\n",
              "      <td>0.235000</td>\n",
              "      <td>0.418333</td>\n",
              "      <td>0.548333</td>\n",
              "      <td>1</td>\n",
              "      <td>0.188750</td>\n",
              "      <td>0.483333</td>\n",
              "      <td>0.092500</td>\n",
              "      <td>0.130000</td>\n",
              "    </tr>\n",
              "    <tr>\n",
              "      <th>7</th>\n",
              "      <td>0000071d71a0a6f6</td>\n",
              "      <td>Person</td>\n",
              "      <td>0.596250</td>\n",
              "      <td>0.808750</td>\n",
              "      <td>0.265000</td>\n",
              "      <td>0.998333</td>\n",
              "      <td>1</td>\n",
              "      <td>0.702500</td>\n",
              "      <td>0.631667</td>\n",
              "      <td>0.212500</td>\n",
              "      <td>0.733333</td>\n",
              "    </tr>\n",
              "    <tr>\n",
              "      <th>8</th>\n",
              "      <td>0000071d71a0a6f6</td>\n",
              "      <td>Person</td>\n",
              "      <td>0.638750</td>\n",
              "      <td>0.998750</td>\n",
              "      <td>0.243333</td>\n",
              "      <td>0.998333</td>\n",
              "      <td>1</td>\n",
              "      <td>0.818750</td>\n",
              "      <td>0.620833</td>\n",
              "      <td>0.360000</td>\n",
              "      <td>0.755000</td>\n",
              "    </tr>\n",
              "    <tr>\n",
              "      <th>9</th>\n",
              "      <td>0000201cd362f303</td>\n",
              "      <td>Clothing</td>\n",
              "      <td>0.020625</td>\n",
              "      <td>0.115000</td>\n",
              "      <td>0.382739</td>\n",
              "      <td>0.491557</td>\n",
              "      <td>0</td>\n",
              "      <td>0.067812</td>\n",
              "      <td>0.437148</td>\n",
              "      <td>0.094375</td>\n",
              "      <td>0.108818</td>\n",
              "    </tr>\n",
              "  </tbody>\n",
              "</table>\n",
              "</div>"
            ],
            "text/plain": [
              "            ImageID LabelName      XMin  ...  y_center         w         h\n",
              "0  0000048549557964       Car  0.194375  ...  0.739167  0.131875  0.038333\n",
              "1  0000048549557964       Car  0.435000  ...  0.821250  0.290625  0.245834\n",
              "2  0000048549557964       Car  0.706250  ...  0.775416  0.230625  0.179167\n",
              "3  0000048549557964       Car  0.828750  ...  0.800416  0.170625  0.215833\n",
              "4  0000071d71a0a6f6    Person  0.000000  ...  0.615000  0.212500  0.766666\n",
              "5  0000071d71a0a6f6    Person  0.138750  ...  0.624167  0.383750  0.748333\n",
              "6  0000071d71a0a6f6    Person  0.142500  ...  0.483333  0.092500  0.130000\n",
              "7  0000071d71a0a6f6    Person  0.596250  ...  0.631667  0.212500  0.733333\n",
              "8  0000071d71a0a6f6    Person  0.638750  ...  0.620833  0.360000  0.755000\n",
              "9  0000201cd362f303  Clothing  0.020625  ...  0.437148  0.094375  0.108818\n",
              "\n",
              "[10 rows x 11 columns]"
            ]
          },
          "metadata": {
            "tags": []
          },
          "execution_count": 10
        }
      ]
    },
    {
      "cell_type": "code",
      "metadata": {
        "colab": {
          "base_uri": "https://localhost:8080/"
        },
        "id": "OS6e4Nj18sY8",
        "outputId": "0324db24-3a00-49b1-99d9-271fef150fef"
      },
      "source": [
        "val.shape"
      ],
      "execution_count": null,
      "outputs": [
        {
          "output_type": "execute_result",
          "data": {
            "text/plain": [
              "(101334, 11)"
            ]
          },
          "metadata": {
            "tags": []
          },
          "execution_count": 23
        }
      ]
    },
    {
      "cell_type": "code",
      "metadata": {
        "colab": {
          "base_uri": "https://localhost:8080/"
        },
        "id": "0JMWuhhnWE5Y",
        "outputId": "a271f5fc-92f7-4b91-b5a6-dab2e9405592"
      },
      "source": [
        "val['class'].value_counts()"
      ],
      "execution_count": null,
      "outputs": [
        {
          "output_type": "execute_result",
          "data": {
            "text/plain": [
              "0    38935\n",
              "1    26365\n",
              "2    21389\n",
              "4     7469\n",
              "3     7176\n",
              "Name: class, dtype: int64"
            ]
          },
          "metadata": {
            "tags": []
          },
          "execution_count": 11
        }
      ]
    },
    {
      "cell_type": "code",
      "metadata": {
        "colab": {
          "base_uri": "https://localhost:8080/"
        },
        "id": "oz0Bfw95rwzm",
        "outputId": "4eedddd8-d950-4832-a1ee-49f3e2bdd48a"
      },
      "source": [
        "%cd /content/"
      ],
      "execution_count": null,
      "outputs": [
        {
          "output_type": "stream",
          "text": [
            "/content\n"
          ],
          "name": "stdout"
        }
      ]
    },
    {
      "cell_type": "code",
      "metadata": {
        "id": "SuFSAAqZrs9_",
        "colab": {
          "base_uri": "https://localhost:8080/"
        },
        "outputId": "2d6c25fb-0295-4352-901a-e675b50cfdcd"
      },
      "source": [
        "# !rm -r /content/train/labels/*.txt\r\n",
        "%cd /content/train/"
      ],
      "execution_count": null,
      "outputs": [
        {
          "output_type": "stream",
          "text": [
            "/content/train\n"
          ],
          "name": "stdout"
        }
      ]
    },
    {
      "cell_type": "code",
      "metadata": {
        "id": "iVAI-IlllwvB"
      },
      "source": [
        "!mkdir train"
      ],
      "execution_count": null,
      "outputs": []
    },
    {
      "cell_type": "code",
      "metadata": {
        "colab": {
          "base_uri": "https://localhost:8080/"
        },
        "id": "EXx5RERuN5w9",
        "outputId": "b747b475-585b-4333-beea-2915c52a6e3a"
      },
      "source": [
        " %cd /content/train\r\n",
        "# !rm -r labels\r\n",
        "!mkdir labels\r\n",
        "!mkdir images"
      ],
      "execution_count": null,
      "outputs": [
        {
          "output_type": "stream",
          "text": [
            "/content/train\n"
          ],
          "name": "stdout"
        }
      ]
    },
    {
      "cell_type": "code",
      "metadata": {
        "colab": {
          "base_uri": "https://localhost:8080/"
        },
        "id": "24sAOYhj1DHQ",
        "outputId": "5ec3ac0b-a2f4-4b3b-dfd0-ba784c3ddd6a"
      },
      "source": [
        "print(len(os.listdir('/content/val/labels')))"
      ],
      "execution_count": null,
      "outputs": [
        {
          "output_type": "stream",
          "text": [
            "200\n"
          ],
          "name": "stdout"
        }
      ]
    },
    {
      "cell_type": "code",
      "metadata": {
        "id": "HD1sFPv6M-oW"
      },
      "source": [
        "base = \"train/labels/\"\r\n",
        "for i in range(len(val)):\r\n",
        "  if(path.exists(base+val.loc[i,\"ImageID\"]+'.txt')):\r\n",
        "    with open(base+val.loc[i,\"ImageID\"]+\".txt\", \"a\") as file1: \r\n",
        "    # Writing data to a file \r\n",
        "      file1.write(\"\\n\") \r\n",
        "      file1.write(\"{} {} {} {} {}\".format(val.loc[i,\"class\"],round(val.loc[i,\"x_center\"],6),round(val.loc[i,\"y_center\"],6),round(val.loc[i,\"w\"],6),round(val.loc[i,\"h\"],6))) \r\n",
        "      # print(\"{} {} {} {}\".format(val.loc[i,\"class\"],round(val.loc[i,\"x_center\"],6),round(val.loc[i,\"y_center\"],6),round(val.loc[i,\"w\"],6),round(val.loc[i,\"h\"],6))) \r\n",
        "  else:\r\n",
        "    with open(base+val.loc[i,\"ImageID\"]+\".txt\", \"x\") as file1: \r\n",
        "    # Writing data to a file  \r\n",
        "      file1.write(\"{} {} {} {} {}\".format(val.loc[i,\"class\"],round(val.loc[i,\"x_center\"],6),round(val.loc[i,\"y_center\"],6),round(val.loc[i,\"w\"],6),round(val.loc[i,\"h\"],6)))"
      ],
      "execution_count": null,
      "outputs": []
    },
    {
      "cell_type": "code",
      "metadata": {
        "id": "bUrws37rfpqK"
      },
      "source": [
        "!unzip ../validation"
      ],
      "execution_count": null,
      "outputs": []
    },
    {
      "cell_type": "code",
      "metadata": {
        "colab": {
          "base_uri": "https://localhost:8080/"
        },
        "id": "C-p87-z-ce49",
        "outputId": "134fd108-08b8-4529-b7d9-dc3b1f7a2b58"
      },
      "source": [
        "# !mv labels train\r\n",
        "!mv ../validation train"
      ],
      "execution_count": null,
      "outputs": [
        {
          "output_type": "stream",
          "text": [
            "mv: cannot stat '../validation': No such file or directory\n"
          ],
          "name": "stdout"
        }
      ]
    },
    {
      "cell_type": "code",
      "metadata": {
        "id": "uqy_yJY8cj5F",
        "colab": {
          "base_uri": "https://localhost:8080/"
        },
        "outputId": "5b7b6753-611d-486b-855d-e57936b8b6f6"
      },
      "source": [
        "\r\n",
        "# !mkdir \r\n",
        "%cd val\r\n",
        "!mkdir labels\r\n",
        "!mkdir images\r\n",
        "# images = [i for i in os.listdir('../train-v2')]\r\n",
        "# images = [i for i in os.listdir('images')]\r\n"
      ],
      "execution_count": null,
      "outputs": [
        {
          "output_type": "stream",
          "text": [
            "/content/val\n"
          ],
          "name": "stdout"
        }
      ]
    },
    {
      "cell_type": "code",
      "metadata": {
        "id": "By0f99snwOMn"
      },
      "source": [
        "!rm -r /content/train/images/*.jpg"
      ],
      "execution_count": null,
      "outputs": []
    },
    {
      "cell_type": "code",
      "metadata": {
        "colab": {
          "base_uri": "https://localhost:8080/"
        },
        "id": "Wd9b3U4pf5EB",
        "outputId": "ed79979c-be48-4223-e2ef-350481890b3f"
      },
      "source": [
        "len(images)"
      ],
      "execution_count": null,
      "outputs": [
        {
          "output_type": "execute_result",
          "data": {
            "text/plain": [
              "14800"
            ]
          },
          "metadata": {
            "tags": []
          },
          "execution_count": 13
        }
      ]
    },
    {
      "cell_type": "code",
      "metadata": {
        "id": "BDQ8Tl2wjZ1t"
      },
      "source": [
        "for i in images[:100]:\r\n",
        "  shutil.move(\"/content/train/images/\"+i, \"/content/val/images/\"+i)\r\n",
        "  shutil.move(\"/content/train/labels/\"+i.split('.')[0]+\".txt\", \"/content/val/labels/\"+i.split('.')[0]+\".txt\")"
      ],
      "execution_count": null,
      "outputs": []
    },
    {
      "cell_type": "code",
      "metadata": {
        "id": "MjQS0VNP8gDk"
      },
      "source": [
        "for i in images[:10000]:\r\n",
        "  shutil.move(\"/content/train-v2/\"+i, \"/content/train/images/\"+i)\r\n",
        "  # shutil.move(\"/content/train/labels/\"+i.split('.')[0]+\".txt\", \"/content/val/labels/\"+i.split('.')[0]+\".txt\")"
      ],
      "execution_count": null,
      "outputs": []
    },
    {
      "cell_type": "code",
      "metadata": {
        "id": "245cZIxZ87_t"
      },
      "source": [
        "for i in images[10000:10200]:\r\n",
        "  shutil.move(\"/content/train-v2/\"+i, \"/content/val/images/\"+i)\r\n",
        "  shutil.move(\"/content/train/labels/\"+i.split('.')[0]+\".txt\", \"/content/val/labels/\"+i.split('.')[0]+\".txt\")"
      ],
      "execution_count": null,
      "outputs": []
    },
    {
      "cell_type": "code",
      "metadata": {
        "id": "9GoEmmyaP1R9"
      },
      "source": [
        "%cd yolov5/\r\n",
        "!python train.py --batch 16 --data objde.yaml --cfg yolov5x.yaml --epochs 40 --weights /content/content/yolov5/runs/train/exp5/weights/last.pt --hyp /content/content/yolov5/runs/train/exp5/hyp.yaml "
      ],
      "execution_count": null,
      "outputs": []
    },
    {
      "cell_type": "code",
      "metadata": {
        "id": "-dV6_JnGvIsu"
      },
      "source": [
        "from google.colab import output\r\n",
        "output.eval_js('new Audio(\"https://upload.wikimedia.org/wikipedia/commons/0/05/Beep-09.ogg\").play()')"
      ],
      "execution_count": null,
      "outputs": []
    },
    {
      "cell_type": "code",
      "metadata": {
        "id": "wQzeMPmS0QRM"
      },
      "source": [
        "from google.colab import drive\n",
        "drive.mount('/content/drive')"
      ],
      "execution_count": null,
      "outputs": []
    },
    {
      "cell_type": "code",
      "metadata": {
        "id": "HENOhfbsvz72"
      },
      "source": [
        " !python detect.py --source test-v2 --weights runs/train/exp9/weights/last.pt --save-txt --save-conf"
      ],
      "execution_count": null,
      "outputs": []
    },
    {
      "cell_type": "code",
      "metadata": {
        "id": "xUU9dYx6-nxk"
      },
      "source": [
        "files = [i for i in os.listdir('/content/yolov5/runs/detect/exp2/labels')]\r\n",
        "key = dict({0:'Clothing', 1:'Person',2:'Footwear', 3:'Plant',4:'Car'})"
      ],
      "execution_count": null,
      "outputs": []
    },
    {
      "cell_type": "code",
      "metadata": {
        "colab": {
          "base_uri": "https://localhost:8080/"
        },
        "id": "xRYkoaa-ZN-G",
        "outputId": "25dbd25f-3b1b-4e5c-897b-7317e41aba63"
      },
      "source": [
        "df2 = pd.DataFrame(columns=['ImageID','LabelName','XMin','XMax','YMin','YMax','score']) \r\n",
        "for j in tqdm(files):\r\n",
        "  with open(\"runs/detect/exp2/labels/\"+j, \"r\") as file1:\r\n",
        "    temp = [line[:-1] for line in file1]\r\n",
        "    # print(temp)\r\n",
        "    for i in temp:\r\n",
        "      item = i.split(' ')\r\n",
        "      classes = key[int(item[0])]\r\n",
        "      x_min = float(item[1]) - float(item[3])/2\r\n",
        "      x_max = float(item[1]) + float(item[3])/2\r\n",
        "      y_min = float(item[2]) - float(item[4])/2\r\n",
        "      y_max = float(item[2]) + float(item[4])/2\r\n",
        "      score = float(item[5])\r\n",
        "      df2.loc[len(df2.index)] = [ j.split('.')[0], classes, x_min, x_max, y_min, y_max, score]"
      ],
      "execution_count": null,
      "outputs": [
        {
          "output_type": "stream",
          "text": [
            "100%|██████████| 9152/9152 [01:45<00:00, 86.56it/s]\n"
          ],
          "name": "stderr"
        }
      ]
    },
    {
      "cell_type": "code",
      "metadata": {
        "id": "MRe-2t2UZT0k"
      },
      "source": [
        "df2.to_csv('test1.csv')"
      ],
      "execution_count": null,
      "outputs": []
    }
  ]
}