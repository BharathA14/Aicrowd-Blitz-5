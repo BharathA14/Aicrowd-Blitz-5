{
  "nbformat": 4,
  "nbformat_minor": 0,
  "metadata": {
    "colab": {
      "name": "Blitz#5TIMSER.ipynb",
      "provenance": [],
      "toc_visible": true
    },
    "kernelspec": {
      "name": "python3",
      "display_name": "Python 3"
    }
  },
  "cells": [
    {
      "cell_type": "code",
      "metadata": {
        "id": "G1thMyUGN-FH"
      },
      "source": [
        "!wget https://datasets.aicrowd.com/default/aicrowd-practice-challenges/public/timser/v0.1/train.csv\r\n",
        "!wget https://datasets.aicrowd.com/default/aicrowd-practice-challenges/public/timser/v0.1/val.csv"
      ],
      "execution_count": null,
      "outputs": []
    },
    {
      "cell_type": "code",
      "metadata": {
        "id": "7wV-3LrdT6n8"
      },
      "source": [
        "import os\r\n",
        "import warnings\r\n",
        "warnings.filterwarnings('ignore')\r\n",
        "from pylab import rcParams\r\n",
        "rcParams['figure.figsize'] = 10, 6\r\n",
        "from statsmodels.tsa.stattools import adfuller\r\n",
        "from statsmodels.tsa.seasonal import seasonal_decompose\r\n",
        "from statsmodels.tsa.arima_model import ARIMA\r\n",
        "from pmdarima.arima import auto_arima\r\n",
        "from sklearn.metrics import mean_squared_error, mean_absolute_error\r\n",
        "import math\r\n",
        "import numpy as np\r\n",
        "import datetime as dt\r\n",
        "from nsepy import get_history\r\n",
        "from datetime import date\r\n",
        "import matplotlib.pyplot as plt\r\n",
        "import seaborn as sns\r\n",
        "import pandas as pd\r\n",
        "from statsmodels.tools.eval_measures import rmse"
      ],
      "execution_count": null,
      "outputs": []
    },
    {
      "cell_type": "code",
      "metadata": {
        "colab": {
          "base_uri": "https://localhost:8080/"
        },
        "id": "4HGqcD_u_SS8",
        "outputId": "7f7b3a97-2b0b-41c1-9816-2901a7d1c519"
      },
      "source": [
        "import math\r\n",
        "import numpy as np\r\n",
        "import datetime as dt\r\n",
        "# from nsepy import get_history\r\n",
        "from datetime import date\r\n",
        "import matplotlib.pyplot as plt\r\n",
        "import seaborn as sns\r\n",
        "import pandas as pd\r\n",
        "from statsmodels.tools.eval_measures import rmse"
      ],
      "execution_count": null,
      "outputs": [
        {
          "output_type": "stream",
          "text": [
            "/usr/local/lib/python3.6/dist-packages/statsmodels/tools/_testing.py:19: FutureWarning: pandas.util.testing is deprecated. Use the functions in the public API at pandas.testing instead.\n",
            "  import pandas.util.testing as tm\n"
          ],
          "name": "stderr"
        }
      ]
    },
    {
      "cell_type": "code",
      "metadata": {
        "id": "BCO5NJIyQDOJ"
      },
      "source": [
        "# !pip install pytorchts\r\n",
        "!pip install nsepy\r\n",
        "!pip install pmdarima"
      ],
      "execution_count": null,
      "outputs": []
    },
    {
      "cell_type": "code",
      "metadata": {
        "id": "Ne4RK4fabD0m"
      },
      "source": [
        "from datetime import timedelta, date\r\n",
        "\r\n",
        "def daterange(date1, date2):\r\n",
        "    for n in range(int ((date2 - date1).days)+1):\r\n",
        "        yield date1 + timedelta(n)"
      ],
      "execution_count": null,
      "outputs": []
    },
    {
      "cell_type": "code",
      "metadata": {
        "id": "4a2u0AEmPYQx"
      },
      "source": [
        "train =  pd.read_csv('train.csv')\r\n",
        "val = pd.read_csv('val.csv')\r\n",
        "sample = pd.read_csv('sample_submission.csv')"
      ],
      "execution_count": null,
      "outputs": []
    },
    {
      "cell_type": "code",
      "metadata": {
        "id": "ERhK3pmwXDPD"
      },
      "source": [
        "total_log = pd.concat([train,val])"
      ],
      "execution_count": null,
      "outputs": []
    },
    {
      "cell_type": "code",
      "metadata": {
        "colab": {
          "base_uri": "https://localhost:8080/",
          "height": 390
        },
        "id": "Bdkt1yQX0hy7",
        "outputId": "11457cd1-d839-4f59-eab9-70245ea1f3bd"
      },
      "source": [
        "train.date = pd.to_datetime(train.date,format='%Y-%m-%d')\r\n",
        "train = train.set_index(\"date\")\r\n",
        "train.head(10)"
      ],
      "execution_count": null,
      "outputs": [
        {
          "output_type": "execute_result",
          "data": {
            "text/html": [
              "<div>\n",
              "<style scoped>\n",
              "    .dataframe tbody tr th:only-of-type {\n",
              "        vertical-align: middle;\n",
              "    }\n",
              "\n",
              "    .dataframe tbody tr th {\n",
              "        vertical-align: top;\n",
              "    }\n",
              "\n",
              "    .dataframe thead th {\n",
              "        text-align: right;\n",
              "    }\n",
              "</style>\n",
              "<table border=\"1\" class=\"dataframe\">\n",
              "  <thead>\n",
              "    <tr style=\"text-align: right;\">\n",
              "      <th></th>\n",
              "      <th>value</th>\n",
              "    </tr>\n",
              "    <tr>\n",
              "      <th>date</th>\n",
              "      <th></th>\n",
              "    </tr>\n",
              "  </thead>\n",
              "  <tbody>\n",
              "    <tr>\n",
              "      <th>1985-01-29</th>\n",
              "      <td>1552.519959</td>\n",
              "    </tr>\n",
              "    <tr>\n",
              "      <th>1985-01-30</th>\n",
              "      <td>1576.070007</td>\n",
              "    </tr>\n",
              "    <tr>\n",
              "      <th>1985-01-31</th>\n",
              "      <td>1561.440002</td>\n",
              "    </tr>\n",
              "    <tr>\n",
              "      <th>1985-02-01</th>\n",
              "      <td>1554.839935</td>\n",
              "    </tr>\n",
              "    <tr>\n",
              "      <th>1985-02-04</th>\n",
              "      <td>1550.879944</td>\n",
              "    </tr>\n",
              "    <tr>\n",
              "      <th>1985-02-05</th>\n",
              "      <td>1575.860047</td>\n",
              "    </tr>\n",
              "    <tr>\n",
              "      <th>1985-02-06</th>\n",
              "      <td>1568.690003</td>\n",
              "    </tr>\n",
              "    <tr>\n",
              "      <th>1985-02-07</th>\n",
              "      <td>1570.500000</td>\n",
              "    </tr>\n",
              "    <tr>\n",
              "      <th>1985-02-08</th>\n",
              "      <td>1577.879944</td>\n",
              "    </tr>\n",
              "    <tr>\n",
              "      <th>1985-02-11</th>\n",
              "      <td>1576.589996</td>\n",
              "    </tr>\n",
              "  </tbody>\n",
              "</table>\n",
              "</div>"
            ],
            "text/plain": [
              "                  value\n",
              "date                   \n",
              "1985-01-29  1552.519959\n",
              "1985-01-30  1576.070007\n",
              "1985-01-31  1561.440002\n",
              "1985-02-01  1554.839935\n",
              "1985-02-04  1550.879944\n",
              "1985-02-05  1575.860047\n",
              "1985-02-06  1568.690003\n",
              "1985-02-07  1570.500000\n",
              "1985-02-08  1577.879944\n",
              "1985-02-11  1576.589996"
            ]
          },
          "metadata": {
            "tags": []
          },
          "execution_count": 9
        }
      ]
    },
    {
      "cell_type": "code",
      "metadata": {
        "id": "S1-hVi5LXSeN"
      },
      "source": [
        "train = total_log"
      ],
      "execution_count": null,
      "outputs": []
    },
    {
      "cell_type": "code",
      "metadata": {
        "colab": {
          "base_uri": "https://localhost:8080/",
          "height": 390
        },
        "id": "174RFv09Py6Z",
        "outputId": "e7de05b4-2895-4e77-cd6c-3d95157e5dd2"
      },
      "source": [
        "val.date = pd.to_datetime(val.date,format='%Y-%m-%d')\r\n",
        "val = val.set_index(\"date\")\r\n",
        "val.head(10)"
      ],
      "execution_count": null,
      "outputs": [
        {
          "output_type": "execute_result",
          "data": {
            "text/html": [
              "<div>\n",
              "<style scoped>\n",
              "    .dataframe tbody tr th:only-of-type {\n",
              "        vertical-align: middle;\n",
              "    }\n",
              "\n",
              "    .dataframe tbody tr th {\n",
              "        vertical-align: top;\n",
              "    }\n",
              "\n",
              "    .dataframe thead th {\n",
              "        text-align: right;\n",
              "    }\n",
              "</style>\n",
              "<table border=\"1\" class=\"dataframe\">\n",
              "  <thead>\n",
              "    <tr style=\"text-align: right;\">\n",
              "      <th></th>\n",
              "      <th>value</th>\n",
              "    </tr>\n",
              "    <tr>\n",
              "      <th>date</th>\n",
              "      <th></th>\n",
              "    </tr>\n",
              "  </thead>\n",
              "  <tbody>\n",
              "    <tr>\n",
              "      <th>2010-03-26</th>\n",
              "      <td>13248.020019</td>\n",
              "    </tr>\n",
              "    <tr>\n",
              "      <th>2010-03-29</th>\n",
              "      <td>13253.000489</td>\n",
              "    </tr>\n",
              "    <tr>\n",
              "      <th>2010-03-30</th>\n",
              "      <td>13301.709472</td>\n",
              "    </tr>\n",
              "    <tr>\n",
              "      <th>2010-03-31</th>\n",
              "      <td>13310.319824</td>\n",
              "    </tr>\n",
              "    <tr>\n",
              "      <th>2010-04-01</th>\n",
              "      <td>13268.989502</td>\n",
              "    </tr>\n",
              "    <tr>\n",
              "      <th>2010-04-05</th>\n",
              "      <td>13336.930175</td>\n",
              "    </tr>\n",
              "    <tr>\n",
              "      <th>2010-04-06</th>\n",
              "      <td>13392.820312</td>\n",
              "    </tr>\n",
              "    <tr>\n",
              "      <th>2010-04-07</th>\n",
              "      <td>13395.050293</td>\n",
              "    </tr>\n",
              "    <tr>\n",
              "      <th>2010-04-08</th>\n",
              "      <td>13320.980224</td>\n",
              "    </tr>\n",
              "    <tr>\n",
              "      <th>2010-04-09</th>\n",
              "      <td>13368.229981</td>\n",
              "    </tr>\n",
              "  </tbody>\n",
              "</table>\n",
              "</div>"
            ],
            "text/plain": [
              "                   value\n",
              "date                    \n",
              "2010-03-26  13248.020019\n",
              "2010-03-29  13253.000489\n",
              "2010-03-30  13301.709472\n",
              "2010-03-31  13310.319824\n",
              "2010-04-01  13268.989502\n",
              "2010-04-05  13336.930175\n",
              "2010-04-06  13392.820312\n",
              "2010-04-07  13395.050293\n",
              "2010-04-08  13320.980224\n",
              "2010-04-09  13368.229981"
            ]
          },
          "metadata": {
            "tags": []
          },
          "execution_count": 10
        }
      ]
    },
    {
      "cell_type": "code",
      "metadata": {
        "colab": {
          "base_uri": "https://localhost:8080/",
          "height": 231
        },
        "id": "2fGr5KgtSzwE",
        "outputId": "42f21270-3f92-4c38-ad49-1ccd217af1b5"
      },
      "source": [
        "train[\"year\"] = train.index.year\r\n",
        "train[\"month\"] =train.index.month\r\n",
        "train[\"day\"] = train.index.day\r\n",
        "\r\n",
        "# val[\"year\"] = val.index.year\r\n",
        "# val[\"month\"] = val.index.month\r\n",
        "# val[\"day\"] = val.index.day\r\n"
      ],
      "execution_count": null,
      "outputs": [
        {
          "output_type": "error",
          "ename": "AttributeError",
          "evalue": "ignored",
          "traceback": [
            "\u001b[0;31m---------------------------------------------------------------------------\u001b[0m",
            "\u001b[0;31mAttributeError\u001b[0m                            Traceback (most recent call last)",
            "\u001b[0;32m<ipython-input-117-fc8edc05cdd3>\u001b[0m in \u001b[0;36m<module>\u001b[0;34m()\u001b[0m\n\u001b[0;32m----> 1\u001b[0;31m \u001b[0mtrain\u001b[0m\u001b[0;34m[\u001b[0m\u001b[0;34m\"year\"\u001b[0m\u001b[0;34m]\u001b[0m \u001b[0;34m=\u001b[0m \u001b[0mtrain\u001b[0m\u001b[0;34m.\u001b[0m\u001b[0mindex\u001b[0m\u001b[0;34m.\u001b[0m\u001b[0myear\u001b[0m\u001b[0;34m\u001b[0m\u001b[0;34m\u001b[0m\u001b[0m\n\u001b[0m\u001b[1;32m      2\u001b[0m \u001b[0mtrain\u001b[0m\u001b[0;34m[\u001b[0m\u001b[0;34m\"month\"\u001b[0m\u001b[0;34m]\u001b[0m \u001b[0;34m=\u001b[0m\u001b[0mtrain\u001b[0m\u001b[0;34m.\u001b[0m\u001b[0mindex\u001b[0m\u001b[0;34m.\u001b[0m\u001b[0mmonth\u001b[0m\u001b[0;34m\u001b[0m\u001b[0;34m\u001b[0m\u001b[0m\n\u001b[1;32m      3\u001b[0m \u001b[0mtrain\u001b[0m\u001b[0;34m[\u001b[0m\u001b[0;34m\"day\"\u001b[0m\u001b[0;34m]\u001b[0m \u001b[0;34m=\u001b[0m \u001b[0mtrain\u001b[0m\u001b[0;34m.\u001b[0m\u001b[0mindex\u001b[0m\u001b[0;34m.\u001b[0m\u001b[0mday\u001b[0m\u001b[0;34m\u001b[0m\u001b[0;34m\u001b[0m\u001b[0m\n\u001b[1;32m      4\u001b[0m \u001b[0;34m\u001b[0m\u001b[0m\n\u001b[1;32m      5\u001b[0m \u001b[0;31m# val[\"year\"] = val.index.year\u001b[0m\u001b[0;34m\u001b[0m\u001b[0;34m\u001b[0m\u001b[0;34m\u001b[0m\u001b[0m\n",
            "\u001b[0;31mAttributeError\u001b[0m: 'Int64Index' object has no attribute 'year'"
          ]
        }
      ]
    },
    {
      "cell_type": "code",
      "metadata": {
        "colab": {
          "base_uri": "https://localhost:8080/",
          "height": 299
        },
        "id": "BBmffCXYTYst",
        "outputId": "5d74198f-3f06-4258-a920-e0bc03c11f38"
      },
      "source": [
        "train.groupby('month')['value'].mean().plot.bar()\r\n"
      ],
      "execution_count": null,
      "outputs": [
        {
          "output_type": "execute_result",
          "data": {
            "text/plain": [
              "<matplotlib.axes._subplots.AxesSubplot at 0x7fd04a0c09b0>"
            ]
          },
          "metadata": {
            "tags": []
          },
          "execution_count": 36
        },
        {
          "output_type": "display_data",
          "data": {
            "image/png": "[encoded data removed]",
            "text/plain": [
              "<Figure size 432x288 with 1 Axes>"
            ]
          },
          "metadata": {
            "tags": [],
            "needs_background": "light"
          }
        }
      ]
    },
    {
      "cell_type": "code",
      "metadata": {
        "colab": {
          "base_uri": "https://localhost:8080/",
          "height": 434
        },
        "id": "8FdaZR3NQBHK",
        "outputId": "87b6a231-8815-44b2-f05a-4eb0ce57a5f5"
      },
      "source": [
        "def test_stationarity(timeseries):\r\n",
        "    #Determing rolling statistics\r\n",
        "    rolmean = timeseries.rolling(12).mean()\r\n",
        "    rolstd = timeseries.rolling(12).std()\r\n",
        "    #Plot rolling statistics:\r\n",
        "    plt.plot(timeseries, color='yellow',label='Original')\r\n",
        "    plt.plot(rolmean, color='red', label='Rolling Mean')\r\n",
        "    plt.plot(rolstd, color='black', label = 'Rolling Std')\r\n",
        "    plt.legend(loc='best')\r\n",
        "    plt.title('Rolling Mean and Standard Deviation')\r\n",
        "    plt.show(block=False)\r\n",
        "    print(\"Results of dickey fuller test\")\r\n",
        "    adft = adfuller(timeseries,autolag='AIC')\r\n",
        "    # output for dft will give us without defining what the values are.\r\n",
        "    #hence we manually write what values does it explains using a for loop\r\n",
        "    output = pd.Series(adft[0:4],index=['Test Statistics','p-value','No. of lags used','Number of observations used'])\r\n",
        "    for key,values in adft[4].items():\r\n",
        "        output['critical value (%s)'%key] =  values\r\n",
        "    print(output)\r\n",
        "\r\n",
        "test_stationarity(train['value'])\r\n",
        "# test_stationarity(val['value'])"
      ],
      "execution_count": null,
      "outputs": [
        {
          "output_type": "display_data",
          "data": {
            "image/png": "[encoded data removed]",
            "text/plain": [
              "<Figure size 432x288 with 1 Axes>"
            ]
          },
          "metadata": {
            "tags": [],
            "needs_background": "light"
          }
        },
        {
          "output_type": "stream",
          "text": [
            "Results of dickey fuller test\n",
            "Test Statistics                  -0.459593\n",
            "p-value                           0.899663\n",
            "No. of lags used                 34.000000\n",
            "Number of observations used    7125.000000\n",
            "critical value (1%)              -3.431268\n",
            "critical value (5%)              -2.861946\n",
            "critical value (10%)             -2.566986\n",
            "dtype: float64\n"
          ],
          "name": "stdout"
        }
      ]
    },
    {
      "cell_type": "code",
      "metadata": {
        "colab": {
          "base_uri": "https://localhost:8080/",
          "height": 282
        },
        "id": "_zQr5cUsUGCB",
        "outputId": "dd100de2-54a1-4c0f-8322-147707377eb0"
      },
      "source": [
        "train_log = np.log(train['value']) \r\n",
        "test_log = np.log(val['value'])\r\n",
        "moving_avg = train_log.rolling(24).mean() \r\n",
        "plt.plot(train_log) \r\n",
        "plt.plot(moving_avg, color = 'red') \r\n",
        "plt.show"
      ],
      "execution_count": null,
      "outputs": [
        {
          "output_type": "execute_result",
          "data": {
            "text/plain": [
              "<function matplotlib.pyplot.show>"
            ]
          },
          "metadata": {
            "tags": []
          },
          "execution_count": 38
        },
        {
          "output_type": "display_data",
          "data": {
            "image/png": "[encoded data removed]",
            "text/plain": [
              "<Figure size 432x288 with 1 Axes>"
            ]
          },
          "metadata": {
            "tags": [],
            "needs_background": "light"
          }
        }
      ]
    },
    {
      "cell_type": "code",
      "metadata": {
        "colab": {
          "base_uri": "https://localhost:8080/"
        },
        "id": "LE5OXPaeuxBj",
        "outputId": "8714e30b-6694-4fa5-98a8-4176f235453e"
      },
      "source": [
        "train_log"
      ],
      "execution_count": null,
      "outputs": [
        {
          "output_type": "execute_result",
          "data": {
            "text/plain": [
              "date\n",
              "1985-01-29    7.347635\n",
              "1985-01-30    7.362690\n",
              "1985-01-31    7.353364\n",
              "1985-02-01    7.349128\n",
              "1985-02-04    7.346578\n",
              "                ...   \n",
              "2013-06-17    9.827075\n",
              "2013-06-18    9.833204\n",
              "2013-06-19    9.841562\n",
              "2013-06-20    9.826102\n",
              "2013-06-21    9.805237\n",
              "Name: value, Length: 7160, dtype: float64"
            ]
          },
          "metadata": {
            "tags": []
          },
          "execution_count": 124
        }
      ]
    },
    {
      "cell_type": "code",
      "metadata": {
        "colab": {
          "base_uri": "https://localhost:8080/",
          "height": 451
        },
        "id": "h-tlfm0wUQnI",
        "outputId": "687f7e1a-b66f-472d-ecfc-58d74032262f"
      },
      "source": [
        "train_log_moving_avg_diff = train_log - moving_avg\r\n",
        "train_log_moving_avg_diff.dropna(inplace = True), test_stationarity(train_log_moving_avg_diff)\r\n"
      ],
      "execution_count": null,
      "outputs": [
        {
          "output_type": "display_data",
          "data": {
            "image/png": "[encoded data removed]",
            "text/plain": [
              "<Figure size 432x288 with 1 Axes>"
            ]
          },
          "metadata": {
            "tags": [],
            "needs_background": "light"
          }
        },
        {
          "output_type": "stream",
          "text": [
            "Results of dickey fuller test\n",
            "Test Statistics               -1.235212e+01\n",
            "p-value                        5.794059e-23\n",
            "No. of lags used               3.400000e+01\n",
            "Number of observations used    7.102000e+03\n",
            "critical value (1%)           -3.431271e+00\n",
            "critical value (5%)           -2.861947e+00\n",
            "critical value (10%)          -2.566987e+00\n",
            "dtype: float64\n"
          ],
          "name": "stdout"
        },
        {
          "output_type": "execute_result",
          "data": {
            "text/plain": [
              "(None, None)"
            ]
          },
          "metadata": {
            "tags": []
          },
          "execution_count": 40
        }
      ]
    },
    {
      "cell_type": "code",
      "metadata": {
        "colab": {
          "base_uri": "https://localhost:8080/",
          "height": 434
        },
        "id": "D89Bqy68U2aB",
        "outputId": "14298944-1188-4d1f-bf67-56dd03a4c052"
      },
      "source": [
        "train_log_diff = train_log - train_log.shift(1) \r\n",
        "test_stationarity(train_log_diff.dropna())\r\n"
      ],
      "execution_count": null,
      "outputs": [
        {
          "output_type": "display_data",
          "data": {
            "image/png": "[encoded data removed]",
            "text/plain": [
              "<Figure size 432x288 with 1 Axes>"
            ]
          },
          "metadata": {
            "tags": [],
            "needs_background": "light"
          }
        },
        {
          "output_type": "stream",
          "text": [
            "Results of dickey fuller test\n",
            "Test Statistics               -1.447444e+01\n",
            "p-value                        6.524561e-27\n",
            "No. of lags used               3.300000e+01\n",
            "Number of observations used    7.125000e+03\n",
            "critical value (1%)           -3.431268e+00\n",
            "critical value (5%)           -2.861946e+00\n",
            "critical value (10%)          -2.566986e+00\n",
            "dtype: float64\n"
          ],
          "name": "stdout"
        }
      ]
    },
    {
      "cell_type": "code",
      "metadata": {
        "id": "POioOPUhWFPC"
      },
      "source": [
        "from pmdarima import auto_arima\r\n",
        "model = auto_arima(train_log, trace=True, error_action='ignore', suppress_warnings=True)\r\n",
        "model.fit(train_log)\r\n",
        "forecast = model.predict(n_periods=len(sample))\r\n",
        "forecast = pd.DataFrame(forecast,index = sample['date'],columns=['value'])\r\n",
        "#plot the predictions for validation set\r\n",
        "plt.plot(train_log, label='Train')\r\n",
        "plt.plot(test_log, label='Test')\r\n",
        "plt.plot(forecast, label='Prediction')\r\n",
        "plt.title(' Stock Price Prediction')\r\n",
        "plt.xlabel('Time')\r\n",
        "plt.ylabel('Actual Stock Price')\r\n",
        "plt.legend(loc='upper left', fontsize=8)\r\n",
        "plt.show()"
      ],
      "execution_count": null,
      "outputs": []
    },
    {
      "cell_type": "code",
      "metadata": {
        "colab": {
          "base_uri": "https://localhost:8080/"
        },
        "id": "Wrueqy5-i-XB",
        "outputId": "6aeb6d08-b555-4b1b-eea2-4fa1fb6ca483"
      },
      "source": [
        "print(train.iloc[0]['value']/train_log[0])\r\n",
        "print(train.iloc[1]['value']/train_log[1])\r\n",
        "print(train.iloc[2]['value']/train_log[2])\r\n",
        "print(train.iloc[3]['value']/train_log[3])\r\n",
        "\r\n"
      ],
      "execution_count": null,
      "outputs": [
        {
          "output_type": "stream",
          "text": [
            "211.29520298400206\n",
            "214.06171838474623\n",
            "212.34363680597045\n",
            "211.56795195586193\n"
          ],
          "name": "stdout"
        }
      ]
    },
    {
      "cell_type": "code",
      "metadata": {
        "id": "Pc3BpDracAKY"
      },
      "source": [
        "forecast = forecast.reset_index()"
      ],
      "execution_count": null,
      "outputs": []
    },
    {
      "cell_type": "code",
      "metadata": {
        "colab": {
          "base_uri": "https://localhost:8080/",
          "height": 359
        },
        "id": "i7f4SgzbdtmB",
        "outputId": "e3a8b103-79f4-41a0-f82c-358113d3c401"
      },
      "source": [
        "# forecast = forecast.rename(columns = {'Prediction':'value'})\r\n",
        "forecast.head(10)"
      ],
      "execution_count": null,
      "outputs": [
        {
          "output_type": "execute_result",
          "data": {
            "text/html": [
              "<div>\n",
              "<style scoped>\n",
              "    .dataframe tbody tr th:only-of-type {\n",
              "        vertical-align: middle;\n",
              "    }\n",
              "\n",
              "    .dataframe tbody tr th {\n",
              "        vertical-align: top;\n",
              "    }\n",
              "\n",
              "    .dataframe thead th {\n",
              "        text-align: right;\n",
              "    }\n",
              "</style>\n",
              "<table border=\"1\" class=\"dataframe\">\n",
              "  <thead>\n",
              "    <tr style=\"text-align: right;\">\n",
              "      <th></th>\n",
              "      <th>date</th>\n",
              "      <th>value</th>\n",
              "    </tr>\n",
              "  </thead>\n",
              "  <tbody>\n",
              "    <tr>\n",
              "      <th>0</th>\n",
              "      <td>2013-06-24</td>\n",
              "      <td>9.806811</td>\n",
              "    </tr>\n",
              "    <tr>\n",
              "      <th>1</th>\n",
              "      <td>2013-06-25</td>\n",
              "      <td>9.807536</td>\n",
              "    </tr>\n",
              "    <tr>\n",
              "      <th>2</th>\n",
              "      <td>2013-06-26</td>\n",
              "      <td>9.807006</td>\n",
              "    </tr>\n",
              "    <tr>\n",
              "      <th>3</th>\n",
              "      <td>2013-06-27</td>\n",
              "      <td>9.807487</td>\n",
              "    </tr>\n",
              "    <tr>\n",
              "      <th>4</th>\n",
              "      <td>2013-06-28</td>\n",
              "      <td>9.808263</td>\n",
              "    </tr>\n",
              "    <tr>\n",
              "      <th>5</th>\n",
              "      <td>2013-07-01</td>\n",
              "      <td>9.808338</td>\n",
              "    </tr>\n",
              "    <tr>\n",
              "      <th>6</th>\n",
              "      <td>2013-07-02</td>\n",
              "      <td>9.808536</td>\n",
              "    </tr>\n",
              "    <tr>\n",
              "      <th>7</th>\n",
              "      <td>2013-07-03</td>\n",
              "      <td>9.809084</td>\n",
              "    </tr>\n",
              "    <tr>\n",
              "      <th>8</th>\n",
              "      <td>2013-07-05</td>\n",
              "      <td>9.809416</td>\n",
              "    </tr>\n",
              "    <tr>\n",
              "      <th>9</th>\n",
              "      <td>2013-07-08</td>\n",
              "      <td>9.809638</td>\n",
              "    </tr>\n",
              "  </tbody>\n",
              "</table>\n",
              "</div>"
            ],
            "text/plain": [
              "         date     value\n",
              "0  2013-06-24  9.806811\n",
              "1  2013-06-25  9.807536\n",
              "2  2013-06-26  9.807006\n",
              "3  2013-06-27  9.807487\n",
              "4  2013-06-28  9.808263\n",
              "5  2013-07-01  9.808338\n",
              "6  2013-07-02  9.808536\n",
              "7  2013-07-03  9.809084\n",
              "8  2013-07-05  9.809416\n",
              "9  2013-07-08  9.809638"
            ]
          },
          "metadata": {
            "tags": []
          },
          "execution_count": 120
        }
      ]
    },
    {
      "cell_type": "code",
      "metadata": {
        "id": "0u2G45YNXzN5"
      },
      "source": [
        "test = pd.DataFrame(columns=['date','value'])\r\n",
        "start = dt.date( 2013, 6, 24 )\r\n",
        "end = dt.date( 2021, 1, 13 )\r\n",
        "weekdays = [6,7]\r\n",
        "for dt in daterange(start, end):\r\n",
        "    if dt.isoweekday() not in weekdays:\r\n",
        "        test.loc[len(test)]= [dt.strftime(\"%Y-%m-%d\"),\" \"]"
      ],
      "execution_count": null,
      "outputs": []
    },
    {
      "cell_type": "code",
      "metadata": {
        "id": "6w0WROtkYK_d"
      },
      "source": [
        "test['value']=forecast['Prediction']"
      ],
      "execution_count": null,
      "outputs": []
    },
    {
      "cell_type": "code",
      "metadata": {
        "id": "OX09D2Meihuw"
      },
      "source": [
        "forecast['value'] = np.exp(forecast['value'])"
      ],
      "execution_count": null,
      "outputs": []
    },
    {
      "cell_type": "code",
      "metadata": {
        "id": "tnw_MqC0j9-W"
      },
      "source": [
        "forecast.to_csv('timser_baseline.csv')"
      ],
      "execution_count": null,
      "outputs": []
    },
    {
      "cell_type": "code",
      "metadata": {
        "colab": {
          "base_uri": "https://localhost:8080/",
          "height": 359
        },
        "id": "pfERsVkxmhkk",
        "outputId": "7a9ea8b7-ebdb-4153-cad9-caba4b49e550"
      },
      "source": [
        "forecast.head(10)"
      ],
      "execution_count": null,
      "outputs": [
        {
          "output_type": "execute_result",
          "data": {
            "text/html": [
              "<div>\n",
              "<style scoped>\n",
              "    .dataframe tbody tr th:only-of-type {\n",
              "        vertical-align: middle;\n",
              "    }\n",
              "\n",
              "    .dataframe tbody tr th {\n",
              "        vertical-align: top;\n",
              "    }\n",
              "\n",
              "    .dataframe thead th {\n",
              "        text-align: right;\n",
              "    }\n",
              "</style>\n",
              "<table border=\"1\" class=\"dataframe\">\n",
              "  <thead>\n",
              "    <tr style=\"text-align: right;\">\n",
              "      <th></th>\n",
              "      <th>date</th>\n",
              "      <th>value</th>\n",
              "    </tr>\n",
              "  </thead>\n",
              "  <tbody>\n",
              "    <tr>\n",
              "      <th>0</th>\n",
              "      <td>2013-06-24</td>\n",
              "      <td>18156.994670</td>\n",
              "    </tr>\n",
              "    <tr>\n",
              "      <th>1</th>\n",
              "      <td>2013-06-25</td>\n",
              "      <td>18170.156313</td>\n",
              "    </tr>\n",
              "    <tr>\n",
              "      <th>2</th>\n",
              "      <td>2013-06-26</td>\n",
              "      <td>18160.537515</td>\n",
              "    </tr>\n",
              "    <tr>\n",
              "      <th>3</th>\n",
              "      <td>2013-06-27</td>\n",
              "      <td>18169.261665</td>\n",
              "    </tr>\n",
              "    <tr>\n",
              "      <th>4</th>\n",
              "      <td>2013-06-28</td>\n",
              "      <td>18183.372390</td>\n",
              "    </tr>\n",
              "    <tr>\n",
              "      <th>5</th>\n",
              "      <td>2013-07-01</td>\n",
              "      <td>18184.735412</td>\n",
              "    </tr>\n",
              "    <tr>\n",
              "      <th>6</th>\n",
              "      <td>2013-07-02</td>\n",
              "      <td>18188.342734</td>\n",
              "    </tr>\n",
              "    <tr>\n",
              "      <th>7</th>\n",
              "      <td>2013-07-03</td>\n",
              "      <td>18198.315384</td>\n",
              "    </tr>\n",
              "    <tr>\n",
              "      <th>8</th>\n",
              "      <td>2013-07-05</td>\n",
              "      <td>18204.349508</td>\n",
              "    </tr>\n",
              "    <tr>\n",
              "      <th>9</th>\n",
              "      <td>2013-07-08</td>\n",
              "      <td>18208.387784</td>\n",
              "    </tr>\n",
              "  </tbody>\n",
              "</table>\n",
              "</div>"
            ],
            "text/plain": [
              "         date         value\n",
              "0  2013-06-24  18156.994670\n",
              "1  2013-06-25  18170.156313\n",
              "2  2013-06-26  18160.537515\n",
              "3  2013-06-27  18169.261665\n",
              "4  2013-06-28  18183.372390\n",
              "5  2013-07-01  18184.735412\n",
              "6  2013-07-02  18188.342734\n",
              "7  2013-07-03  18198.315384\n",
              "8  2013-07-05  18204.349508\n",
              "9  2013-07-08  18208.387784"
            ]
          },
          "metadata": {
            "tags": []
          },
          "execution_count": 112
        }
      ]
    },
    {
      "cell_type": "code",
      "metadata": {
        "colab": {
          "base_uri": "https://localhost:8080/"
        },
        "id": "EfPXVOOmW7P4",
        "outputId": "91b9a491-88f1-4c58-f710-370b4068b902"
      },
      "source": [
        "from math import sqrt\r\n",
        "from sklearn.metrics import mean_squared_error\r\n",
        "rms = sqrt(mean_squared_error(test_log,forecast))\r\n",
        "print(\"RMSE: \", rms)"
      ],
      "execution_count": null,
      "outputs": [
        {
          "output_type": "stream",
          "text": [
            "RMSE:  0.04993564667744231\n"
          ],
          "name": "stdout"
        }
      ]
    },
    {
      "cell_type": "code",
      "metadata": {
        "id": "NDat_5dYVfyA"
      },
      "source": [
        "2,760 days - test data generation\r\n",
        "1,183 days - val data days\r\n",
        "~ 8,969 days - train data days"
      ],
      "execution_count": null,
      "outputs": []
    },
    {
      "cell_type": "code",
      "metadata": {
        "id": "ZhjjwqJ5kpdr"
      },
      "source": [
        "sample = pd.read_csv('/content/sample_submission (3).csv')\r\n",
        "sample.date.to_list()"
      ],
      "execution_count": null,
      "outputs": []
    },
    {
      "cell_type": "code",
      "metadata": {
        "id": "QycOOnEvk85P"
      },
      "source": [
        "t = pd.DataFrame(data={'date':sample.date.to_list,'value':[]})"
      ],
      "execution_count": null,
      "outputs": []
    }
  ]
}