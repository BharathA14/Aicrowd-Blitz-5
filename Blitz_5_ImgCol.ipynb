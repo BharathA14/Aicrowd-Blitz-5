{
  "nbformat": 4,
  "nbformat_minor": 0,
  "metadata": {
    "colab": {
      "name": "Blitz#5 - ImgCol.ipynb",
      "provenance": []
    },
    "kernelspec": {
      "name": "python3",
      "display_name": "Python 3"
    },
    "accelerator": "GPU"
  },
  "cells": [
    {
      "cell_type": "code",
      "metadata": {
        "id": "VLRO8MkA2Cjz"
      },
      "source": [
        "# !wget https://datasets.aicrowd.com/default/aicrowd-practice-challenges/public/imgcol/v0.1/train_color_images.zip\r\n",
        "# !wget https://datasets.aicrowd.com/default/aicrowd-practice-challenges/public/imgcol/v0.1/train_black_white_images.zip"
      ],
      "execution_count": null,
      "outputs": []
    },
    {
      "cell_type": "code",
      "metadata": {
        "id": "AarOAITZ2l9M"
      },
      "source": [
        "%cp '/content/train_color_images.zip' '/content/drive/My Drive/'\r\n",
        "%cp '/content/train_black_white_images.zip' '/content/drive/My Drive/'"
      ],
      "execution_count": null,
      "outputs": []
    },
    {
      "cell_type": "code",
      "metadata": {
        "id": "nkfI90rr3ME9"
      },
      "source": [
        "%cp /content/drive/MyDrive/Blitz_5/IMGCOL/test_black_white_images.zip /content/"
      ],
      "execution_count": null,
      "outputs": []
    },
    {
      "cell_type": "code",
      "metadata": {
        "id": "IxRcwnyr3ayC"
      },
      "source": [
        "# !mkdir '/content/drive/My Drive/Blitz_5'\r\n",
        "# !mkdir '/content/drive/My Drive/Blitz_5/IMGCOL/'\r\n",
        "!mv '/content/drive/My Drive/train_color_images.zip' '/content/drive/My Drive/Blitz_5/IMGCOL/'\r\n",
        "!mv '/content/drive/My Drive/train_black_white_images.zip' '/content/drive/My Drive/Blitz_5/IMGCOL/'"
      ],
      "execution_count": null,
      "outputs": []
    },
    {
      "cell_type": "code",
      "metadata": {
        "id": "CWaenaD77L5G",
        "colab": {
          "base_uri": "https://localhost:8080/"
        },
        "outputId": "49fac2de-df70-4c61-8f16-d78958cae095"
      },
      "source": [
        "!git clone https://github.com/richzhang/colorization.git"
      ],
      "execution_count": null,
      "outputs": [
        {
          "output_type": "stream",
          "text": [
            "Cloning into 'colorization'...\n",
            "remote: Enumerating objects: 61, done.\u001b[K\n",
            "remote: Counting objects: 100% (61/61), done.\u001b[K\n",
            "remote: Compressing objects: 100% (47/47), done.\u001b[K\n",
            "remote: Total 4873 (delta 24), reused 43 (delta 13), pack-reused 4812\u001b[K\n",
            "Receiving objects: 100% (4873/4873), 178.34 MiB | 43.75 MiB/s, done.\n",
            "Resolving deltas: 100% (409/409), done.\n"
          ],
          "name": "stdout"
        }
      ]
    },
    {
      "cell_type": "code",
      "metadata": {
        "id": "zuQ0OoqSG2Xh"
      },
      "source": [
        "%cp /content/drive/MyDrive/Blitz_5/IMGCOL/test_black_white_images.zip /content/"
      ],
      "execution_count": null,
      "outputs": []
    },
    {
      "cell_type": "code",
      "metadata": {
        "id": "ptDr7x4i3QdE"
      },
      "source": [
        "!unzip test_black_white_images.zip"
      ],
      "execution_count": null,
      "outputs": []
    },
    {
      "cell_type": "code",
      "metadata": {
        "id": "1P6A2mN8HI8Y"
      },
      "source": [
        "!unzip test_black_white_images.zip"
      ],
      "execution_count": null,
      "outputs": []
    },
    {
      "cell_type": "code",
      "metadata": {
        "colab": {
          "base_uri": "https://localhost:8080/"
        },
        "id": "uLlSjGwmHOgJ",
        "outputId": "6b3a81a9-3b68-426e-e31b-4db539a92f7b"
      },
      "source": [
        "%cd colorization/ "
      ],
      "execution_count": null,
      "outputs": [
        {
          "output_type": "stream",
          "text": [
            "/content/colorization\n"
          ],
          "name": "stdout"
        }
      ]
    },
    {
      "cell_type": "code",
      "metadata": {
        "colab": {
          "base_uri": "https://localhost:8080/"
        },
        "id": "fNYTz7ztHM7g",
        "outputId": "2bc0d90c-78d5-44d3-a6e6-c5c8f0c3788c"
      },
      "source": [
        "!python demo_release.py -i ../test_black_white_images/test_black_white_images/000026e7ee790996.jpg"
      ],
      "execution_count": null,
      "outputs": [
        {
          "output_type": "stream",
          "text": [
            "/usr/local/lib/python3.6/dist-packages/torch/nn/functional.py:3063: UserWarning: Default upsampling behavior when mode=bilinear is changed to align_corners=False since 0.4.0. Please specify align_corners=True if the old behavior is desired. See the documentation of nn.Upsample for details.\n",
            "  \"See the documentation of nn.Upsample for details.\".format(mode))\n",
            "<Figure size 1200x800 with 4 Axes>\n"
          ],
          "name": "stdout"
        }
      ]
    },
    {
      "cell_type": "code",
      "metadata": {
        "colab": {
          "base_uri": "https://localhost:8080/"
        },
        "id": "yLAVco_A5tG9",
        "outputId": "058e2ba6-c25a-4a92-c944-8c3f949fa6d0"
      },
      "source": [
        "img = cv2.imread('../test_black_white_images/test_black_white_images/000026e7ee790996.jpg')\r\n",
        "img.shape"
      ],
      "execution_count": null,
      "outputs": [
        {
          "output_type": "execute_result",
          "data": {
            "text/plain": [
              "(512, 512, 3)"
            ]
          },
          "metadata": {
            "tags": []
          },
          "execution_count": 14
        }
      ]
    },
    {
      "cell_type": "code",
      "metadata": {
        "id": "0zwBjuyeHZGX"
      },
      "source": [
        "import cv2\r\n",
        "import os\r\n",
        "from tqdm import tqdm\r\n",
        "import matplotlib.pyplot as plt\r\n",
        "# img = cv2.imread('/content/colorization/saved_eccv16.png')\r\n",
        "# img.shape\r\n",
        "# image1 = cv2.imread('/content/colorization/saved_siggraph17.png')\r\n",
        "# image1.shape"
      ],
      "execution_count": null,
      "outputs": []
    },
    {
      "cell_type": "code",
      "metadata": {
        "id": "qJWdWVIYIAQ1",
        "colab": {
          "base_uri": "https://localhost:8080/"
        },
        "outputId": "652f0e8e-a6d5-4b31-cbe1-41d96c50cc03"
      },
      "source": [
        "%cd colorization/"
      ],
      "execution_count": null,
      "outputs": [
        {
          "output_type": "stream",
          "text": [
            "/content/colorization\n"
          ],
          "name": "stdout"
        }
      ]
    },
    {
      "cell_type": "code",
      "metadata": {
        "id": "Z1EtvzHL3hyE"
      },
      "source": [
        "from colorizers import *\r\n",
        "colorizer_eccv16 = eccv16(pretrained=True).eval()\r\n",
        "colorizer_siggraph17 = siggraph17(pretrained=True).eval()\r\n",
        "colorizer_eccv16.cuda()\r\n",
        "colorizer_siggraph17.cuda()"
      ],
      "execution_count": null,
      "outputs": []
    },
    {
      "cell_type": "code",
      "metadata": {
        "colab": {
          "base_uri": "https://localhost:8080/"
        },
        "id": "zahC-oQ95Uu3",
        "outputId": "87162150-5161-4dfe-ba19-2efa3fb74b6a"
      },
      "source": [
        "images=os.listdir('/content/test_black_white_images/test_black_white_images')\r\n",
        "print(len(images))"
      ],
      "execution_count": null,
      "outputs": [
        {
          "output_type": "stream",
          "text": [
            "5001\n"
          ],
          "name": "stdout"
        }
      ]
    },
    {
      "cell_type": "code",
      "metadata": {
        "colab": {
          "base_uri": "https://localhost:8080/"
        },
        "id": "zW8gBt5Q6GGU",
        "outputId": "acabfd40-661d-4ea9-b8e1-287228ec0b73"
      },
      "source": [
        "!pwd"
      ],
      "execution_count": null,
      "outputs": [
        {
          "output_type": "stream",
          "text": [
            "/content/colorization\n"
          ],
          "name": "stdout"
        }
      ]
    },
    {
      "cell_type": "code",
      "metadata": {
        "id": "5Ib8WI_O5kaN"
      },
      "source": [
        "images[:10]"
      ],
      "execution_count": null,
      "outputs": []
    },
    {
      "cell_type": "code",
      "metadata": {
        "id": "kSpPrmEJ3mYD"
      },
      "source": [
        "for i in tqdm(images):\r\n",
        "  img = load_img('../test_black_white_images/test_black_white_images/'+i)\r\n",
        "  (tens_l_orig, tens_l_rs) = preprocess_img(img, HW=(512,512))\r\n",
        "  tens_l_rs = tens_l_rs.cuda()\r\n",
        "\r\n",
        "  # colorizer outputs 256x256 ab map\r\n",
        "  # resize and concatenate to original L channel\r\n",
        "  img_bw = postprocess_tens(tens_l_orig, torch.cat((0*tens_l_orig,0*tens_l_orig),dim=1))\r\n",
        "  out_img_eccv16 = postprocess_tens(tens_l_orig, colorizer_eccv16(tens_l_rs).cpu())\r\n",
        "  out_img_siggraph17 = postprocess_tens(tens_l_orig, colorizer_siggraph17(tens_l_rs).cpu())\r\n",
        "\r\n",
        "  plt.imsave('eccv16/'+i, out_img_eccv16)\r\n",
        "  plt.imsave('siggraph/'+i,out_img_siggraph17)"
      ],
      "execution_count": null,
      "outputs": []
    },
    {
      "cell_type": "code",
      "metadata": {
        "id": "3hxlDb4C6isz"
      },
      "source": [
        "!zip -r siggraph.zip test_color_images/"
      ],
      "execution_count": null,
      "outputs": []
    },
    {
      "cell_type": "code",
      "metadata": {
        "id": "0HGItAyMMXLR"
      },
      "source": [
        "%cp siggraph.zip /content/drive/MyDrive/Blitz_5/IMGCOL/\r\n",
        "%cp eccv16.zip /content/drive/MyDrive/Blitz_5/IMGCOL/\r\n"
      ],
      "execution_count": null,
      "outputs": []
    },
    {
      "cell_type": "code",
      "metadata": {
        "colab": {
          "base_uri": "https://localhost:8080/"
        },
        "id": "uqUrifmpMY8L",
        "outputId": "031fdc5e-be4b-4da8-ad0b-c32a62f87252"
      },
      "source": [
        "len(os.listdir('test_color_images'))"
      ],
      "execution_count": null,
      "outputs": [
        {
          "output_type": "execute_result",
          "data": {
            "text/plain": [
              "5001"
            ]
          },
          "metadata": {
            "tags": []
          },
          "execution_count": 24
        }
      ]
    }
  ]
}