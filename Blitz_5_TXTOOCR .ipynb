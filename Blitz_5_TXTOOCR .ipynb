{
  "nbformat": 4,
  "nbformat_minor": 0,
  "metadata": {
    "accelerator": "GPU",
    "colab": {
      "name": "Blitz_5_TXTOOCR.ipynb",
      "provenance": [],
      "collapsed_sections": [
        "94rZqZEX_cCn",
        "AydSk5tmk11X",
        "KT7y0uiZOvzy",
        "174xR2czCz6p",
        "utwoj6L-icsn"
      ],
      "toc_visible": true
    },
    "kernelspec": {
      "display_name": "Python 3",
      "name": "python3"
    }
  },
  "cells": [
    {
      "cell_type": "code",
      "metadata": {
        "id": "oIW4CS8qXdol"
      },
      "source": [
        "from PIL import Image\r\n",
        "import os\r\n",
        "import matplotlib.pyplot as plt\r\n",
        "# import keras_ocr\r\n",
        "from time import time\r\n",
        "from csv import writer\r\n",
        "from tqdm.auto import tqdm, trange\r\n",
        "import pandas as pd\r\n",
        "# import nltk\r\n",
        "# from nltk.corpus import wordnet\r\n",
        "import matplotlib.pyplot as plt;\r\n",
        "import matplotlib.image as mpimg\r\n",
        "pd.set_option('display.max_rows', 500)"
      ],
      "execution_count": null,
      "outputs": []
    },
    {
      "cell_type": "code",
      "metadata": {
        "id": "lV7X2voGaYlz"
      },
      "source": [
        "!wget https://datasets.aicrowd.com/default/aicrowd-practice-challenges/public/txtocr/v0.1/test.zip"
      ],
      "execution_count": null,
      "outputs": []
    },
    {
      "cell_type": "code",
      "metadata": {
        "id": "L6pyxB3Up4Lb"
      },
      "source": [
        "%cp /content/drive/MyDrive/Blitz_5/TXTTOOCR/test.zip /content/"
      ],
      "execution_count": null,
      "outputs": []
    },
    {
      "cell_type": "code",
      "metadata": {
        "id": "fkEI6_U8qAht"
      },
      "source": [
        "!unzip test"
      ],
      "execution_count": null,
      "outputs": []
    },
    {
      "cell_type": "code",
      "metadata": {
        "id": "psYsHz5BsXCy"
      },
      "source": [
        "!wget https://datasets.aicrowd.com/default/aicrowd-practice-challenges/public/txtocr/v0.1/train.csv"
      ],
      "execution_count": null,
      "outputs": []
    },
    {
      "cell_type": "code",
      "metadata": {
        "id": "eGBfHVu9mpWy"
      },
      "source": [
        "!pip install keras-ocr"
      ],
      "execution_count": null,
      "outputs": []
    },
    {
      "cell_type": "code",
      "metadata": {
        "id": "hkXlmGXZrdob"
      },
      "source": [
        "!unzip test.zip"
      ],
      "execution_count": null,
      "outputs": []
    },
    {
      "cell_type": "code",
      "metadata": {
        "id": "AwWh2iRETB9e"
      },
      "source": [
        "def append_list_as_row(file_name, list_of_elem):\r\n",
        "    # Open file in append mode\r\n",
        "    with open(file_name, 'a+', newline='') as write_obj:\r\n",
        "        # Create a writer object from csv module\r\n",
        "        csv_writer = writer(write_obj)\r\n",
        "        # Add contents of list as last row in the csv file\r\n",
        "        csv_writer.writerow(list_of_elem)\r\n",
        "\r\n",
        "def view_images(filename: str=None) -> None:\r\n",
        "    \"\"\"\r\n",
        "    View multiple images stored in files, stacking vertically\r\n",
        "\r\n",
        "    Arguments:\r\n",
        "        filename: str - path to filename containing image\r\n",
        "    \"\"\"\r\n",
        "    image = mpimg.imread(filename)\r\n",
        "    # <something gets done here>\r\n",
        "    plt.figure()\r\n",
        "    plt.xlabel(filename)\r\n",
        "    plt.imshow(image)\r\n"
      ],
      "execution_count": null,
      "outputs": []
    },
    {
      "cell_type": "code",
      "metadata": {
        "id": "7mY9MbRGmsY0"
      },
      "source": [
        "# keras-ocr will automatically download pretrained\r\n",
        "# weights for the detector and recognizer.\r\n",
        "pipeline = keras_ocr.pipeline.Pipeline()"
      ],
      "execution_count": null,
      "outputs": []
    },
    {
      "cell_type": "code",
      "metadata": {
        "id": "9jWDLeYJrxBz"
      },
      "source": [
        "test = os.listdir('/content/test')\r\n",
        "print(len(test))"
      ],
      "execution_count": null,
      "outputs": []
    },
    {
      "cell_type": "code",
      "metadata": {
        "id": "Hze3EqM-mwhC"
      },
      "source": [
        "for i in tqdm(test):\r\n",
        "  images = [keras_ocr.tools.read('test/'+i)]\r\n",
        "# Each list of predictions in prediction_groups is a list of\r\n",
        "# (word, box) tuples.\r\n",
        "  prediction_groups = pipeline.recognize(images)\r\n",
        "  result = prediction_groups[0][0][0]\r\n",
        "  if(len(prediction_groups[0])>1):\r\n",
        "    for j in range(1,len(prediction_groups[0])):\r\n",
        "      result += ' '+prediction_groups[0][j][0]\r\n",
        "  append_list_as_row('/content/kocr.csv', [i.split('.')[0],result])"
      ],
      "execution_count": null,
      "outputs": []
    }
  ]
}